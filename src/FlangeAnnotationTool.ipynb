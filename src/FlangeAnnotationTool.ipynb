{
  "nbformat": 4,
  "nbformat_minor": 0,
  "metadata": {
    "colab": {
      "name": "FlangeAnnotationTool_FasterRCNN.ipynb",
      "provenance": [],
      "collapsed_sections": []
    },
    "kernelspec": {
      "name": "python3",
      "display_name": "Python 3"
    },
    "language_info": {
      "name": "python"
    },
    "accelerator": "GPU"
  },
  "cells": [
    {
      "cell_type": "code",
      "metadata": {
        "id": "Lhfq4yHm0pv8"
      },
      "source": [
        "!pip install pyyaml==5.1\n",
        "# workaround: install old version of pytorch since detectron2 hasn't released packages for pytorch 1.9 (issue: https://github.com/facebookresearch/detectron2/issues/3158)\n",
        "!pip install torch==1.8.0+cu101 torchvision==0.9.0+cu101 -f https://download.pytorch.org/whl/torch_stable.html\n",
        "\n",
        "# install detectron2 that matches pytorch 1.8\n",
        "# See https://detectron2.readthedocs.io/tutorials/install.html for instructions\n",
        "!pip install detectron2 -f https://dl.fbaipublicfiles.com/detectron2/wheels/cu101/torch1.8/index.html\n",
        "#exit(0)  # After installation, you need to \"restart runtime\" in Colab. This line can also restart runtime"
      ],
      "execution_count": null,
      "outputs": []
    },
    {
      "cell_type": "code",
      "metadata": {
        "id": "MNzHBIwk1FM2"
      },
      "source": [
        "# check pytorch installation: \n",
        "import torch, torchvision\n",
        "print(torch.__version__, torch.cuda.is_available())\n",
        "assert torch.__version__.startswith(\"1.8\")   # please manually install torch 1.8 if Colab changes its default version"
      ],
      "execution_count": null,
      "outputs": []
    },
    {
      "cell_type": "code",
      "metadata": {
        "id": "sbg-qRdq1M4m"
      },
      "source": [
        "# Some basic setup:\n",
        "# Setup detectron2 logger\n",
        "import detectron2\n",
        "from detectron2.utils.logger import setup_logger\n",
        "setup_logger()\n",
        "\n",
        "# import some common libraries\n",
        "import numpy as np\n",
        "import os, json, cv2, random\n",
        "from google.colab.patches import cv2_imshow\n",
        "\n",
        "# import some common detectron2 utilities\n",
        "from detectron2 import model_zoo\n",
        "from detectron2.engine import DefaultPredictor\n",
        "from detectron2.config import get_cfg\n",
        "from detectron2.utils.visualizer import Visualizer\n",
        "from detectron2.data import MetadataCatalog, DatasetCatalog"
      ],
      "execution_count": null,
      "outputs": []
    },
    {
      "cell_type": "code",
      "metadata": {
        "id": "ffTCVlWrx4jH"
      },
      "source": [
        "!git clone https://github.com/experiencor/raccoon_dataset.git"
      ],
      "execution_count": null,
      "outputs": []
    },
    {
      "cell_type": "code",
      "metadata": {
        "id": "-EsGn1tcgzzQ"
      },
      "source": [
        "def pascalVOCToCOCO(ann_dir: str, labels: list, output_json: str):\n",
        "\n",
        "  import os\n",
        "  current_dir = os.getcwd()\n",
        "  voc2coco = os.path.join(current_dir, 'voc2coco')\n",
        "  anns_file = os.path.join(current_dir,'annots.txt') \n",
        "  labels_file = os.path.join(current_dir,'labels.txt')\n",
        "\n",
        "  if not os.path.exists(voc2coco):\n",
        "    !git clone https://github.com/roboflow-ai/voc2coco.git\n",
        "\n",
        "  with open(labels_file, mode='w') as labelfile:\n",
        "    for label in labels: labelfile.write(label + '\\n')\n",
        "\n",
        "  with open(anns_file, mode='w') as idfile:\n",
        "    for id in os.listdir(ann_dir):\n",
        "      idfile.write(os.path.join(ann_dir, id) + '\\n')\n",
        "\n",
        "  voc2coco = os.path.join(voc2coco, 'voc2coco.py')\n",
        "  \n",
        "  print('python {} --ann_paths_list {} --labels {} --output {}'.format(voc2coco, anns_file, labels_file, output_json))\n",
        "  \n",
        "  #TODO - cmd python com variaveis\n",
        "  #if not os.path.exists(output_json): raise FileNotFoundError\n",
        "\n",
        "  return 0"
      ],
      "execution_count": null,
      "outputs": []
    },
    {
      "cell_type": "code",
      "metadata": {
        "id": "pQ-1K-OcvBmZ"
      },
      "source": [
        "ann_dir = '/content/raccoon_dataset/annotations'\n",
        "labels = ['raccoon']\n",
        "output_json = '/content/raccoon_annts.json'\n",
        "convertDatasetToCOCO(ann_dir, labels, output_json)"
      ],
      "execution_count": null,
      "outputs": []
    },
    {
      "cell_type": "code",
      "metadata": {
        "id": "YnsmIbtYvlCQ"
      },
      "source": [
        "!python /content/voc2coco/voc2coco.py --ann_paths_list /content/annots.txt --labels /content/labels.txt --output /content/raccoon_annts.json"
      ],
      "execution_count": null,
      "outputs": []
    },
    {
      "cell_type": "code",
      "metadata": {
        "id": "PZ-6lnZPzZ4V"
      },
      "source": [
        "from detectron2.data.datasets.coco import register_coco_instances\n",
        "register_coco_instances('raccoon', {}, '/content/raccoon_annts.json', '/content/raccoon_dataset/images')"
      ],
      "execution_count": null,
      "outputs": []
    },
    {
      "cell_type": "code",
      "metadata": {
        "id": "B6ZkPZ0W2r4B"
      },
      "source": [
        "DatasetCatalog.get('raccoon')"
      ],
      "execution_count": null,
      "outputs": []
    },
    {
      "cell_type": "code",
      "metadata": {
        "id": "bsTbHLeX7oJt"
      },
      "source": [
        "dataset_dicts = DatasetCatalog.get('raccoon')\n",
        "kangaroo_metadata = MetadataCatalog.get('raccoon')\n",
        "\n",
        "for d in random.sample(dataset_dicts, 8):\n",
        "    img = cv2.imread(d[\"file_name\"])\n",
        "    visualizer = Visualizer(img[:, :, ::-1], metadata=kangaroo_metadata, scale=0.5)\n",
        "    out = visualizer.draw_dataset_dict(d)\n",
        "    cv2_imshow(out.get_image()[:, :, ::-1])"
      ],
      "execution_count": null,
      "outputs": []
    },
    {
      "cell_type": "code",
      "metadata": {
        "id": "Z25YENvi8KaI"
      },
      "source": [
        "from detectron2.engine import DefaultTrainer\n",
        "\n",
        "cfg = get_cfg()\n",
        "cfg.merge_from_file(model_zoo.get_config_file('COCO-Detection/faster_rcnn_R_50_C4_3x.yaml'))\n",
        "cfg.DATASETS.TRAIN = ('raccoon',)\n",
        "cfg.DATASETS.TEST = ()\n",
        "cfg.DATALOADER.NUM_WORKERS = 2\n",
        "cfg.MODEL.WEIGHTS = model_zoo.get_checkpoint_url('COCO-Detection/faster_rcnn_R_50_C4_3x.yaml')\n",
        "cfg.SOLVER.IMS_PER_BATCH = 2\n",
        "cfg.SOLVER.BASE_LR = 0.00025  # pick a good LR\n",
        "cfg.SOLVER.MAX_ITER = 300    # 300 iterations seems good enough for this toy dataset; you will need to train longer for a practical dataset\n",
        "cfg.SOLVER.STEPS = []        # do not decay learning rate\n",
        "cfg.MODEL.ROI_HEADS.BATCH_SIZE_PER_IMAGE = 128   # faster, and good enough for this toy dataset (default: 512)\n",
        "cfg.MODEL.ROI_HEADS.NUM_CLASSES = 1  # only has one class (ballon). (see https://detectron2.readthedocs.io/tutorials/datasets.html#update-the-config-for-new-datasets)\n",
        "# NOTE: this config means the number of classes, but a few popular unofficial tutorials incorrect uses num_classes+1 here."
      ],
      "execution_count": null,
      "outputs": []
    },
    {
      "cell_type": "code",
      "metadata": {
        "id": "xiVwtdZXWlGZ"
      },
      "source": [
        "os.makedirs(cfg.OUTPUT_DIR, exist_ok=True)\n",
        "trainer = DefaultTrainer(cfg)\n",
        "trainer.resume_or_load(resume=False)"
      ],
      "execution_count": null,
      "outputs": []
    },
    {
      "cell_type": "code",
      "metadata": {
        "id": "O4umkZpRf2eL"
      },
      "source": [
        "trainer.train()"
      ],
      "execution_count": null,
      "outputs": []
    },
    {
      "cell_type": "code",
      "metadata": {
        "id": "hBXeH8UXFcqU"
      },
      "source": [
        "# Look at training curves in tensorboard:\n",
        "%load_ext tensorboard\n",
        "%tensorboard --logdir output"
      ],
      "execution_count": null,
      "outputs": []
    },
    {
      "cell_type": "code",
      "metadata": {
        "id": "Ya5nEuMELeq8"
      },
      "source": [
        "# Inference should use the config with parameters that are used in training\n",
        "# cfg now already contains everything we've set previously. We changed it a little bit for inference:\n",
        "cfg.MODEL.WEIGHTS = os.path.join(cfg.OUTPUT_DIR, \"model_final.pth\")  # path to the model we just trained\n",
        "cfg.MODEL.ROI_HEADS.SCORE_THRESH_TEST = 0.7   # set a custom testing threshold\n",
        "predictor = DefaultPredictor(cfg)"
      ],
      "execution_count": null,
      "outputs": []
    },
    {
      "cell_type": "code",
      "metadata": {
        "id": "U5LhISJqWXgM"
      },
      "source": [
        "from detectron2.utils.visualizer import ColorMode\n",
        "dataset_dicts = DatasetCatalog.get('raccoon')\n",
        "metadata = MetadataCatalog.get('raccoon')\n",
        "for d in random.sample(dataset_dicts, 50):    \n",
        "    im = cv2.imread(d[\"file_name\"])\n",
        "    outputs = predictor(im)  # format is documented at https://detectron2.readthedocs.io/tutorials/models.html#model-output-format\n",
        "    v = Visualizer(im[:, :, ::-1],\n",
        "                   metadata=metadata, \n",
        "                   scale=0.5, \n",
        "                   instance_mode=ColorMode.IMAGE_BW   # remove the colors of unsegmented pixels. This option is only available for segmentation models\n",
        "    )\n",
        "    \n",
        "    out = v.draw_instance_predictions(outputs[\"instances\"].to(\"cpu\"))\n",
        "    cv2_imshow(out.get_image()[:, :, ::-1])"
      ],
      "execution_count": null,
      "outputs": []
    },
    {
      "cell_type": "code",
      "metadata": {
        "id": "DNmEkU2LhDlH"
      },
      "source": [
        "import cv2\n",
        "import numpy as np\n",
        "from google.colab.patches import cv2_imshow\n",
        "\n",
        "filepath = '/content/img (3290).jpg'\n",
        "img = cv2.imread(filepath)\n",
        "cv2_imshow(img)\n",
        "\n",
        "grayscale = cv2.cvtColor(img, cv2.COLOR_RGB2GRAY)\n",
        "cv2_imshow(grayscale)\n",
        "\n",
        "factor = np.ones(grayscale.shape)*-10\n",
        "contrast = np.add(grayscale, factor) \n",
        "cv2_imshow(contrast)\n",
        "\n",
        "bitmap = contrast.reshape([img.shape[0], img.shape[1]])\n",
        "bitmap = np.dot((bitmap > 128).astype(float),255)\n",
        "cv2_imshow(bitmap.astype(np.uint8))"
      ],
      "execution_count": null,
      "outputs": []
    }
  ]
}